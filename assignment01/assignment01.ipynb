{
 "cells": [
  {
   "cell_type": "code",
   "execution_count": 29,
   "id": "68bf131c",
   "metadata": {},
   "outputs": [],
   "source": [
    "import matplotlib.pyplot as plt\n",
    "from math import sqrt, cos, pi"
   ]
  },
  {
   "cell_type": "markdown",
   "id": "9497aac1",
   "metadata": {},
   "source": [
    "### 01\n",
    "Solve this equation system: <br>\n",
    "__x - 2y + 2z = 3<br>\n",
    "-x + y + z = 4<br>\n",
    "2x + 2y - 3z = -3<br><br>__"
   ]
  },
  {
   "cell_type": "code",
   "execution_count": 7,
   "id": "81de3787",
   "metadata": {},
   "outputs": [
    {
     "name": "stdout",
     "output_type": "stream",
     "text": [
      "True True True\n",
      "x = 1\n",
      "y = 2\n",
      "z = 3\n"
     ]
    }
   ],
   "source": [
    "a = [1, -2, 2, 3]\n",
    "b = [-1, 1, 1, 4]\n",
    "c = [2, 2, -3, -3]\n",
    "\n",
    "# Remove x from (b) and (c)\n",
    "a1 = a  # x - 2y + 2z = 3\n",
    "b1 = [b[i] + a[i] for i in range(len(b))]  # -y + 3z = 7\n",
    "c1 = [c[i] - 2*a[i] for i in range(len(c))]  # 6y - 7z = -9\n",
    "\n",
    "# Remove y from (a) and (c)\n",
    "a2 = [a1[i] - 2*b1[i] for i in range(len(a1))]  # x - 4z = -11\n",
    "b2 = b1  # -y + 3z = 7\n",
    "c2 = [c1[i] + 6*b1[i] for i in range(len(c1))]  # 11z = 33\n",
    "\n",
    "# Calculate x, y, z\n",
    "z = int(c2[3] / c2[2])  # 11z = 33 <=> 11z / 11 = 33 / 11 <=> z = 3\n",
    "x = ((a2[2] * z) * (-1)) + a2[3]  # x - 4z = -11 <=> x - (4 * 3) = -11 <=> x - 12 = -11 <=> x = -11 + 12 = 1\n",
    "y = abs((b2[3] + ((b2[0] * x) * (-1))) + ((b2[2] * z) * (-1)))  # -y + 3z = 7 <=> -y + (3 * 3) = 7 <=> -y + 9 = 7 <=> -y = 7 - 9 = -2 <=> y = 2\n",
    "\n",
    "# print whether left side is equivalent to the right side of the equation system and the values of (x, y, z)\n",
    "print(sum([a[0] * x, a[1] * y, a[2] * z]) == a[3],\n",
    "      sum([b[0] * x, b[1] * y, b[2] * z]) == b[3],\n",
    "      sum([c[0] * x, c[1] * y, c[2] * z]) == c[3])\n",
    "print(f'x = {x}\\ny = {y}\\nz = {z}')"
   ]
  },
  {
   "cell_type": "markdown",
   "id": "4bfa1c5b",
   "metadata": {},
   "source": [
    "### 02\n",
    "We have the following coordinates in a coordinate system:<br>\n",
    "__P = (0, 0)<br>\n",
    "Q = (2, 3)<br>\n",
    "R = (8, 8)<br><br>__\n",
    "- Calculate the distances _PQ_, _QR_ and plot them graphically.\n",
    "- Create a function that takes just any number of distances and plots them graphically"
   ]
  },
  {
   "cell_type": "code",
   "execution_count": 9,
   "id": "a9bdab7d",
   "metadata": {},
   "outputs": [],
   "source": [
    "def plot_distances(*coordinates: list, sort=False) -> None:\n",
    "    \"\"\"\n",
    "    Takes just any numbers of lists, containing 2 integers, and plots lines between the dots.\n",
    "    :param coordinates: args, lists that contain exactly 2 integers, x and y coordinates\n",
    "    :param sort: bool, whether the coordinates should be sorted (by x-coord) or not (False by default)\n",
    "    :return: None\n",
    "    \"\"\"\n",
    "\n",
    "    def valid_points(p: list, q: list) -> bool:\n",
    "        \"\"\"\n",
    "        Check whether coordinates are correct format and contains exactly 2 coordinates\n",
    "        :param p: list, point P\n",
    "        :param q: list, point Q\n",
    "        :return: bool\n",
    "        \"\"\"\n",
    "        return isinstance(p[0], int) and isinstance(q[0], int) and isinstance(p[1], int) and isinstance(q[1], int) \\\n",
    "               and len(coordinates[i]) == 2\n",
    "\n",
    "    if sort:\n",
    "        coordinates = sorted(coordinates, key=lambda x: x[0])\n",
    "    points = []\n",
    "\n",
    "    for i in range(len(coordinates) - 1):\n",
    "        if valid_points(coordinates[i], coordinates[i + 1]):\n",
    "            points.append([coordinates[i + 1][0], coordinates[i][0]])\n",
    "            points.append([coordinates[i + 1][1], coordinates[i][1]])\n",
    "            plt.text(int(coordinates[i][0]), int(coordinates[i][1]),\n",
    "                     f'. {int(coordinates[i][0]), int(coordinates[i][1])}')\n",
    "\n",
    "            if i == len(coordinates) - 2:\n",
    "                plt.text(int(coordinates[i + 1][0]), int(coordinates[i + 1][1]),\n",
    "                         f'. {int(coordinates[i + 1][0]), int(coordinates[i + 1][1])}')\n",
    "        else:\n",
    "            points.clear()\n",
    "            print('One or more of the coordinates are in wrong format!')\n",
    "            break\n",
    "\n",
    "    if len(points) > 0:\n",
    "        plt.plot(*points)\n",
    "        plt.yscale('linear')\n",
    "        plt.grid(True)\n",
    "        plt.show()"
   ]
  },
  {
   "cell_type": "code",
   "execution_count": 12,
   "id": "7db15c8c",
   "metadata": {},
   "outputs": [
    {
     "name": "stdout",
     "output_type": "stream",
     "text": [
      "Length P -> Q: 3.605551275463989\n",
      "Length Q -> R: 7.810249675906654\n"
     ]
    },
    {
     "data": {
      "image/png": "[encoded data removed]",
      "text/plain": [
       "<Figure size 432x288 with 1 Axes>"
      ]
     },
     "metadata": {
      "needs_background": "light"
     },
     "output_type": "display_data"
    }
   ],
   "source": [
    "P = [0, 0]\n",
    "Q = [2, 3]\n",
    "R = [8, 8]\n",
    "\n",
    "# Calculate and print the length of the distances P->Q and Q->R\n",
    "PQ = sqrt(((Q[0] - P[0]) ** 2) + ((Q[1] - P[1]) ** 2))\n",
    "QR = sqrt(((R[0] - Q[0]) ** 2) + ((R[1] - Q[1]) ** 2))\n",
    "print(f'Length P -> Q: {PQ}\\nLength Q -> R: {QR}')\n",
    "\n",
    "plot_distances(P, Q, R)"
   ]
  },
  {
   "cell_type": "markdown",
   "id": "0acb5adb",
   "metadata": {},
   "source": [
    "### 03\n",
    "We have the following vectors:<br>\n",
    "__u = (1, 2, 3)<br>\n",
    "v = (2, 2, 2)<br>\n",
    "w = (1, 0, 1, 0, 1)<br>\n",
    "x = (5, 6, 6, 5, 9)<br><br>__\n",
    "- Calculate _u + v_ and _w + x_\n",
    "- Create a function that takes just any number of vectors, in just any dimension, and calculates the sum"
   ]
  },
  {
   "cell_type": "code",
   "execution_count": 13,
   "id": "d4af16a3",
   "metadata": {},
   "outputs": [],
   "source": [
    "def add_vectors(*vectors: list) -> list:\n",
    "    \"\"\"\n",
    "    Takes just any numbers of vectors and returns their sum, as long as they're in the same dimension\n",
    "    :param vectors: args, lists of vectors to calculate the sum from\n",
    "    :return: list\n",
    "    \"\"\"\n",
    "    length = len(vectors[0])\n",
    "    sum = [0 for _ in range(length)]\n",
    "\n",
    "    for vector in vectors:\n",
    "        if len(vector) == length:\n",
    "            for i in range(len(vector)):\n",
    "                sum[i] += vector[i]\n",
    "        else:\n",
    "            return 'One or more of the vectors are in the wrong format!'\n",
    "\n",
    "    return sum"
   ]
  },
  {
   "cell_type": "code",
   "execution_count": 17,
   "id": "90dcaf06",
   "metadata": {},
   "outputs": [
    {
     "name": "stdout",
     "output_type": "stream",
     "text": [
      "[3, 4, 5]\n",
      "[6, 6, 7, 5, 10]\n"
     ]
    }
   ],
   "source": [
    "u = [1, 2, 3]\n",
    "v = [2, 2, 2]\n",
    "w = [1, 0, 1, 0, 1]\n",
    "x = [5, 6, 6, 5, 9]\n",
    "\n",
    "# u + v\n",
    "print(add_vectors(u, v))\n",
    "\n",
    "# w + x\n",
    "print(add_vectors(w, x))"
   ]
  },
  {
   "cell_type": "markdown",
   "id": "9989555f",
   "metadata": {},
   "source": [
    "### 04\n",
    "We have the following parallel vectors:<br>\n",
    "__u = (0, 2, 3)<br>\n",
    "v = (0, 4, 6)<br><br>__\n",
    "- Calculate the scalar product _u·v_\n",
    "- Create a function that takes two vectors, in just any dimension, and calculates their scalar product"
   ]
  },
  {
   "cell_type": "code",
   "execution_count": 19,
   "id": "88dc4d48",
   "metadata": {},
   "outputs": [],
   "source": [
    "def calculate_scalar_product(u: list, v: list, degrees=None, radians=0.) -> float:\n",
    "    \"\"\"\n",
    "    Takes two vectors from just any dimensions, they need to be in the same dimension tho,\n",
    "    and calculates their scalar product.\n",
    "    The vectors are considered parallel by default.\n",
    "    :param u: list, vector u\n",
    "    :param v: list, vector v\n",
    "    :param degrees: float, angle in degrees\n",
    "    :param radians: float, angle in radians\n",
    "    :return: float\n",
    "    \"\"\"\n",
    "    if len(u) != len(v):\n",
    "        return 'One of the vectors are in the wrong format!'\n",
    "\n",
    "    # Calculated with the formula: a·b = |a||b|cos(u,v)\n",
    "    len_u, len_v = 0, 0\n",
    "\n",
    "    for i in range(len(u)):\n",
    "        len_u += u[i] ** 2\n",
    "        len_v += v[i] ** 2\n",
    "\n",
    "    # Calculate the angle from radians\n",
    "    if degrees:\n",
    "        radians = (degrees / 180) * pi\n",
    "\n",
    "    return sqrt(len_u) * sqrt(len_v) * cos(radians)"
   ]
  },
  {
   "cell_type": "code",
   "execution_count": 21,
   "id": "91e35178",
   "metadata": {},
   "outputs": [
    {
     "name": "stdout",
     "output_type": "stream",
     "text": [
      "25.999999999999996\n"
     ]
    }
   ],
   "source": [
    "u = [0, 2, 3]\n",
    "v = [0, 4, 6]\n",
    "\n",
    "# u·v\n",
    "print(calculate_scalar_product(u, v))"
   ]
  },
  {
   "cell_type": "markdown",
   "id": "0f611f33",
   "metadata": {},
   "source": [
    "### 05\n",
    "We have the following matrices:<br>\n",
    "__A<br>[1 2]<br>[3 2]<br><br>\n",
    "B<br>[4 5]<br>[6 5]<br><br>__\n",
    "- Calculate _A+B_\n",
    "- Create a function that takes two matrices, with just any dimensions, and calculates the sum"
   ]
  },
  {
   "cell_type": "code",
   "execution_count": 24,
   "id": "1aaf2dc9",
   "metadata": {},
   "outputs": [],
   "source": [
    "def print_matrices(a: list) -> None:\n",
    "    if a:\n",
    "        print(f'Type: {len(a)}x{len(a[0])}')\n",
    "        for row in a:\n",
    "            print(row)\n",
    "            \n",
    "\n",
    "def add_matrices(a: list, b: list) -> list:\n",
    "    \"\"\"\n",
    "    Takes two matrices with just any, but the same type, and calculates the sum.\n",
    "    :param a: nested list, matrix A\n",
    "    :param b: nested list, matrix B\n",
    "    :return: list, matrix AB\n",
    "    \"\"\"\n",
    "    def valid_matrix(*args):\n",
    "        \"\"\"Checks whether matrix A is the same type as matrix B\"\"\"\n",
    "        return all(len(x) == len(args[0]) for x in args[1:])\n",
    "\n",
    "    for i in range(len(a)):\n",
    "        if len(a) != len(b) or not valid_matrix(a[i], b[i]):\n",
    "            print('One of the matrices are in the wrong format!')\n",
    "            return None\n",
    "\n",
    "    return [[a[i][j] + b[i][j] for j, column in enumerate(row)] for i, row in enumerate(a)]"
   ]
  },
  {
   "cell_type": "code",
   "execution_count": 26,
   "id": "6724a5e8",
   "metadata": {},
   "outputs": [
    {
     "name": "stdout",
     "output_type": "stream",
     "text": [
      "Type: 2x2\n",
      "[5, 7]\n",
      "[9, 7]\n"
     ]
    }
   ],
   "source": [
    "A = [[1, 2], [3, 2]]\n",
    "B = [[4, 5], [6, 5]]\n",
    "\n",
    "# A+B\n",
    "print_matrices(add_matrices(A, B))"
   ]
  },
  {
   "cell_type": "markdown",
   "id": "0e83fbc9",
   "metadata": {},
   "source": [
    "### 06\n",
    "We have the following matrices:<br>\n",
    "__A<br>[1 2]<br>[3 2]<br>[1 3]<br><br>\n",
    "B<br>[4 5 6]<br>[6 5 4]<br><br>__\n",
    "- Calculate _AB_ and print the new matrix type (_mxn_)\n",
    "- Create a function that takes two matrices, with just any dimensions, and calculates the product. Print the new matrix type or an error message if it's unmultiplable"
   ]
  },
  {
   "cell_type": "code",
   "execution_count": 27,
   "id": "de1915d7",
   "metadata": {},
   "outputs": [],
   "source": [
    "def multiply_matrices(a: list, b: list) -> list:\n",
    "    \"\"\"\n",
    "    Takes two matrices, of just any type, and multiply them together.\n",
    "    :param a: nested list, matrix A\n",
    "    :param b: nested list, matrix B\n",
    "    :return: list, matrix AB\n",
    "    \"\"\"\n",
    "    def valid_matrix(*args):\n",
    "        \"\"\"Checks whether matrix A can multiply with B\"\"\"\n",
    "        return len(args[1]) == len(args[0])\n",
    "\n",
    "    ab = [[0 for _ in range(len(b[0]))] for _ in range(len(a))]\n",
    "\n",
    "    for i, _ in enumerate(a):\n",
    "        if not valid_matrix(a[i], b):\n",
    "            print('One of the matrices are in the wrong format!')\n",
    "            return None\n",
    "\n",
    "        for j, row in enumerate(b):\n",
    "            for k, column in enumerate(row):\n",
    "                ab[i][k] += (a[i][j] * b[j][k])\n",
    "\n",
    "    return ab"
   ]
  },
  {
   "cell_type": "code",
   "execution_count": 28,
   "id": "db34df7b",
   "metadata": {},
   "outputs": [
    {
     "name": "stdout",
     "output_type": "stream",
     "text": [
      "Type: 3x3\n",
      "[16, 15, 14]\n",
      "[24, 25, 26]\n",
      "[22, 20, 18]\n"
     ]
    }
   ],
   "source": [
    "A = [\n",
    "    [1, 2],\n",
    "    [3, 2],\n",
    "    [1, 3]\n",
    "]\n",
    "B = [\n",
    "    [4, 5, 6],\n",
    "    [6, 5, 4]\n",
    "]\n",
    "\n",
    "# AB\n",
    "print_matrices(multiply_matrices(A, B))"
   ]
  },
  {
   "cell_type": "code",
   "execution_count": null,
   "id": "ecdecb34",
   "metadata": {},
   "outputs": [],
   "source": []
  }
 ],
 "metadata": {
  "kernelspec": {
   "display_name": "Python 3 (ipykernel)",
   "language": "python",
   "name": "python3"
  },
  "language_info": {
   "codemirror_mode": {
    "name": "ipython",
    "version": 3
   },
   "file_extension": ".py",
   "mimetype": "text/x-python",
   "name": "python",
   "nbconvert_exporter": "python",
   "pygments_lexer": "ipython3",
   "version": "3.10.0"
  }
 },
 "nbformat": 4,
 "nbformat_minor": 5
}